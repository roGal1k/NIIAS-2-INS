{
 "cells": [
  {
   "cell_type": "code",
   "execution_count": 23,
   "metadata": {
    "collapsed": true
   },
   "outputs": [],
   "source": [
    "import os\n",
    "import re\n",
    "import scipy.io\n",
    "import pandas as pd\n",
    "from scipy import ndimage\n",
    "import numpy as np\n",
    "from PIL import Image\n",
    "from matplotlib import pyplot as plt\n",
    "from tqdm.notebook import tqdm\n",
    "from shutil import move, copy\n",
    "import scipy.io as sio\n"
   ]
  },
  {
   "cell_type": "code",
   "execution_count": null,
   "metadata": {},
   "outputs": [],
   "source": [
    "# беру папку с картинками \n",
    "# формирую словарь индексов на вход индекс \n",
    "# по индексу определяется разметка и выборка \n",
    "# внутри инициализация с путем к папке "
   ]
  },
  {
   "cell_type": "code",
   "execution_count": 19,
   "metadata": {
    "collapsed": true
   },
   "outputs": [],
   "source": [
    "# src_dir = '/Volumes/Ginger/Datasets/ADE20K_2016_07_26/images/training/s/street/'\n",
    "# src_dir = '/Volumes/Ginger/Datasets/ADE20K_2016_07_26/'\n",
    "src_dir = './gt/frankfurt/' #ADE_train_00016858'"
   ]
  },
  {
   "cell_type": "code",
   "execution_count": 11,
   "metadata": {},
   "outputs": [],
   "source": [
    "# палитра "
   ]
  },
  {
   "cell_type": "code",
   "execution_count": 16,
   "metadata": {
    "collapsed": true
   },
   "outputs": [],
   "source": [
    "k_colors = np.array([[  0,   0,   0],\n",
    "       [250, 205, 205], # cap\n",
    "       [ 5,  91,  44],  # Helmet\n",
    "       [254, 236, 212], # Face\n",
    "       [142,  67,   12], # Hair\n",
    "       [222,  168, 142], # Left-arm\n",
    "       [254,  235,   167], # Right-arm\n",
    "       [255, 204,   121], # Left-hand\n",
    "       [218, 138,   105], # Right-hand\n",
    "       [165, 93,   252], # Protector\n",
    "       [232, 199,   255], # Bikini/bra\n",
    "       [248, 215,   108], # Jacket/windbreaker/hoodie \n",
    "       [212, 232,   247], # Tee-shirt\n",
    "       [84, 134,   187], # Polo-shirt\n",
    "       [8, 84,   199], # Sweater\n",
    "       [48, 96,   144], # Singlet\n",
    "       [252, 226,   177], # Torso-skin\n",
    "       [164, 103,   46], # Pants\n",
    "       [252, 197,   227], # Shorts/swim-shorts\n",
    "       [ 146, 125,   223], # Skirt\n",
    "       [ 230, 250,   177], # Stockings\n",
    "       [ 238, 242,   246], # Socks\n",
    "       [ 181, 110,   60], # Left-boot\n",
    "       [ 107, 52,  7], # Right-boot\n",
    "       [ 110, 47,  2], # Left-shoe\n",
    "       [ 184, 95,  31], # Right-shoe \n",
    "       [ 131, 204, 188], # Left-highheel\n",
    "       [ 71, 179, 159], # Right-highheel\n",
    "       [ 171, 125, 51], # Left-sandal\n",
    "       [ 252, 226, 164], # Right-sandal\n",
    "       [ 222, 208, 190], # Left-leg\n",
    "       [ 234, 204, 152], # Right-leg\n",
    "       [ 225, 193, 178], # Left-foot\n",
    "       [ 220, 143, 60], # Right-foot\n",
    "       [ 105, 211, 212], # Coat\n",
    "       [ 255, 133, 192], # Dress\n",
    "       [ 240, 61, 201], # Robe\n",
    "       [ 153,  49, 111], # Jumpsuit\n",
    "       [ 170,  95, 140], # Other-full-body-clothes\n",
    "       [ 255,  216, 88], # Headwear\n",
    "       [ 17,   187, 255], # Backpack\n",
    "       [ 255,   226, 211], # Ball\n",
    "       [ 255,   167, 122], # Bats\n",
    "       [ 116,   76, 65], # Belt\n",
    "       [161,   198, 255], # Bottle\n",
    "       [219,   190, 114], # Carrybag\n",
    "       [124,   62, 85], # Cases\n",
    "       [169,   211, 212], # Sunglasses\n",
    "       [176,   248, 255], # Eyewear\n",
    "       [118,   104, 172], # Glove\n",
    "       [247,   221, 222], # Scarf\n",
    "       [203,   178, 244], # Umbrella\n",
    "       [89,   48, 0], # Wallet/purse\n",
    "       [144,   191, 73], # Watch\n",
    "       [207,   255, 241], # Wristband\n",
    "       [102,   179, 255], # Tie\n",
    "       [180,   214,  180], # Other-accessary\n",
    "       [39,   255,  242], # Other-upper-body-clothes\n",
    "       [227,   159,  177]], dtype='uint8') # Other-lower-body-clothes"
   ]
  },
  {
   "cell_type": "code",
   "execution_count": 17,
   "metadata": {},
   "outputs": [],
   "source": [
    "# показали подгруженное изобржение\n",
    "# сформированли маску\n",
    "# отобрали пиксель?\n",
    "# сгруппировали пады"
   ]
  },
  {
   "cell_type": "code",
   "execution_count": 20,
   "metadata": {
    "collapsed": true
   },
   "outputs": [],
   "source": [
    "def show_image(img, dpi=72):\n",
    "    plt.figure(dpi=dpi)\n",
    "    plt.imshow(img)\n",
    "    plt.show()\n",
    "    \n",
    "def create_circular_mask(h, w, center=None, radius=None):\n",
    "\n",
    "    if center is None: # use the middle of the image\n",
    "        center = (int(w/2), int(h/2))\n",
    "    if radius is None: # use the smallest distance between the center and image walls\n",
    "        radius = min(center[0], center[1], w-center[0], h-center[1])\n",
    "\n",
    "    Y, X = np.ogrid[:h, :w]\n",
    "    dist_from_center = np.sqrt((X - center[0])**2 + (Y-center[1])**2)\n",
    "\n",
    "    mask = dist_from_center <= radius\n",
    "    return mask\n",
    "\n",
    "def bbox2(img):\n",
    "    rows = np.any(img, axis=1)\n",
    "    cols = np.any(img, axis=0)\n",
    "    rmin, rmax = np.where(rows)[0][[0, -1]]\n",
    "    cmin, cmax = np.where(cols)[0][[0, -1]]\n",
    "\n",
    "    return rmin, rmax, cmin, cmax\n",
    "\n",
    "def pad_rgb(img, pad, mode='reflect'):\n",
    "    single_chan = False\n",
    "    if len(img.shape) == 2:\n",
    "        img = np.reshape(img, (img.shape[0], img.shape[1], 1))\n",
    "        single_chan = True\n",
    "    \n",
    "    n_chan = img.shape[2]\n",
    "    new_chans = []\n",
    "    for j in range(n_chan):\n",
    "        if mode == 'reflect':\n",
    "            chan = np.pad(img[:, :, j], pad, mode=mode)\n",
    "        else:\n",
    "            chan = np.pad(img[:, :, j], pad, mode=mode, constant_values=(0,))\n",
    "        new_chans.append(chan)\n",
    "    \n",
    "    if not single_chan:\n",
    "        new_img = np.dstack(new_chans)\n",
    "    else:\n",
    "        new_img = new_chans[0]\n",
    "    \n",
    "    return new_img\n",
    "\n",
    "\n",
    "def pad_square_rgb(img, mode='reflect', dict_mode=False):\n",
    "    rows = img.shape[0]\n",
    "    cols = img.shape[1]\n",
    "    pad_left = 0\n",
    "    pad_top = 0\n",
    "\n",
    "    if rows == cols:\n",
    "        if dict_mode:\n",
    "            return {'img': img, 'pad_left': 0, 'pad_top': 0}\n",
    "        else:\n",
    "            return img\n",
    "    elif rows > cols:\n",
    "        d = rows - cols\n",
    "        pad_cols = d // 2\n",
    "        if d % 2 == 0:\n",
    "            pad = ((0, 0), (pad_cols, pad_cols))\n",
    "        else:\n",
    "            pad = ((0, 0), (pad_cols, pad_cols + 1))\n",
    "        pad_left = pad_cols\n",
    "        pad_top = 0\n",
    "    elif cols > rows:\n",
    "        d = cols - rows\n",
    "        pad_rows = d // 2\n",
    "        if d % 2 == 0:\n",
    "            pad = ((pad_rows, pad_rows), (0, 0))\n",
    "        else:\n",
    "            pad = ((pad_rows, pad_rows + 1), (0, 0))\n",
    "        pad_left = 0\n",
    "        pad_top = pad_rows\n",
    "    img = pad_rgb(img, pad, mode)\n",
    "    if dict_mode:\n",
    "        return {'img': img, 'pad_left': pad_left, 'pad_top': pad_top}\n",
    "    else:\n",
    "        return img"
   ]
  },
  {
   "cell_type": "code",
   "execution_count": 23,
   "metadata": {},
   "outputs": [],
   "source": [
    "# cовмещаются пути к директории и к палитре, загружается в палитру внутри "
   ]
  },
  {
   "cell_type": "code",
   "execution_count": 24,
   "metadata": {
    "collapsed": true
   },
   "outputs": [
    {
     "output_type": "error",
     "ename": "FileNotFoundError",
     "evalue": "[Errno 2] No such file or directory: '/gt/frankfurt/.mat'",
     "traceback": [
      "\u001b[1;31m---------------------------------------------------------------------------\u001b[0m",
      "\u001b[1;31mFileNotFoundError\u001b[0m                         Traceback (most recent call last)",
      "\u001b[1;32m~\\AppData\\Roaming\\Python\\Python39\\site-packages\\scipy\\io\\matlab\\mio.py\u001b[0m in \u001b[0;36m_open_file\u001b[1;34m(file_like, appendmat, mode)\u001b[0m\n\u001b[0;32m     38\u001b[0m     \u001b[1;32mtry\u001b[0m\u001b[1;33m:\u001b[0m\u001b[1;33m\u001b[0m\u001b[1;33m\u001b[0m\u001b[0m\n\u001b[1;32m---> 39\u001b[1;33m         \u001b[1;32mreturn\u001b[0m \u001b[0mopen\u001b[0m\u001b[1;33m(\u001b[0m\u001b[0mfile_like\u001b[0m\u001b[1;33m,\u001b[0m \u001b[0mmode\u001b[0m\u001b[1;33m)\u001b[0m\u001b[1;33m,\u001b[0m \u001b[1;32mTrue\u001b[0m\u001b[1;33m\u001b[0m\u001b[1;33m\u001b[0m\u001b[0m\n\u001b[0m\u001b[0;32m     40\u001b[0m     \u001b[1;32mexcept\u001b[0m \u001b[0mIOError\u001b[0m \u001b[1;32mas\u001b[0m \u001b[0me\u001b[0m\u001b[1;33m:\u001b[0m\u001b[1;33m\u001b[0m\u001b[1;33m\u001b[0m\u001b[0m\n",
      "\u001b[1;31mFileNotFoundError\u001b[0m: [Errno 2] No such file or directory: '/gt/frankfurt/'",
      "\nDuring handling of the above exception, another exception occurred:\n",
      "\u001b[1;31mFileNotFoundError\u001b[0m                         Traceback (most recent call last)",
      "\u001b[1;32m~\\AppData\\Local\\Temp/ipykernel_8684/2751852212.py\u001b[0m in \u001b[0;36m<module>\u001b[1;34m\u001b[0m\n\u001b[0;32m      1\u001b[0m \u001b[1;31m# colors = scipy.io.loadmat(os.path.join(src_dir, 'color150.mat'))\u001b[0m\u001b[1;33m\u001b[0m\u001b[1;33m\u001b[0m\u001b[1;33m\u001b[0m\u001b[0m\n\u001b[1;32m----> 2\u001b[1;33m \u001b[0mcolors\u001b[0m \u001b[1;33m=\u001b[0m \u001b[0mscipy\u001b[0m\u001b[1;33m.\u001b[0m\u001b[0mio\u001b[0m\u001b[1;33m.\u001b[0m\u001b[0mloadmat\u001b[0m\u001b[1;33m(\u001b[0m\u001b[0msrc_dir\u001b[0m\u001b[1;33m)\u001b[0m\u001b[1;33m\u001b[0m\u001b[1;33m\u001b[0m\u001b[0m\n\u001b[0m",
      "\u001b[1;32m~\\AppData\\Roaming\\Python\\Python39\\site-packages\\scipy\\io\\matlab\\mio.py\u001b[0m in \u001b[0;36mloadmat\u001b[1;34m(file_name, mdict, appendmat, **kwargs)\u001b[0m\n\u001b[0;32m    222\u001b[0m     \"\"\"\n\u001b[0;32m    223\u001b[0m     \u001b[0mvariable_names\u001b[0m \u001b[1;33m=\u001b[0m \u001b[0mkwargs\u001b[0m\u001b[1;33m.\u001b[0m\u001b[0mpop\u001b[0m\u001b[1;33m(\u001b[0m\u001b[1;34m'variable_names'\u001b[0m\u001b[1;33m,\u001b[0m \u001b[1;32mNone\u001b[0m\u001b[1;33m)\u001b[0m\u001b[1;33m\u001b[0m\u001b[1;33m\u001b[0m\u001b[0m\n\u001b[1;32m--> 224\u001b[1;33m     \u001b[1;32mwith\u001b[0m \u001b[0m_open_file_context\u001b[0m\u001b[1;33m(\u001b[0m\u001b[0mfile_name\u001b[0m\u001b[1;33m,\u001b[0m \u001b[0mappendmat\u001b[0m\u001b[1;33m)\u001b[0m \u001b[1;32mas\u001b[0m \u001b[0mf\u001b[0m\u001b[1;33m:\u001b[0m\u001b[1;33m\u001b[0m\u001b[1;33m\u001b[0m\u001b[0m\n\u001b[0m\u001b[0;32m    225\u001b[0m         \u001b[0mMR\u001b[0m\u001b[1;33m,\u001b[0m \u001b[0m_\u001b[0m \u001b[1;33m=\u001b[0m \u001b[0mmat_reader_factory\u001b[0m\u001b[1;33m(\u001b[0m\u001b[0mf\u001b[0m\u001b[1;33m,\u001b[0m \u001b[1;33m**\u001b[0m\u001b[0mkwargs\u001b[0m\u001b[1;33m)\u001b[0m\u001b[1;33m\u001b[0m\u001b[1;33m\u001b[0m\u001b[0m\n\u001b[0;32m    226\u001b[0m         \u001b[0mmatfile_dict\u001b[0m \u001b[1;33m=\u001b[0m \u001b[0mMR\u001b[0m\u001b[1;33m.\u001b[0m\u001b[0mget_variables\u001b[0m\u001b[1;33m(\u001b[0m\u001b[0mvariable_names\u001b[0m\u001b[1;33m)\u001b[0m\u001b[1;33m\u001b[0m\u001b[1;33m\u001b[0m\u001b[0m\n",
      "\u001b[1;32mC:\\Program Files\\Python39\\lib\\contextlib.py\u001b[0m in \u001b[0;36m__enter__\u001b[1;34m(self)\u001b[0m\n\u001b[0;32m    115\u001b[0m         \u001b[1;32mdel\u001b[0m \u001b[0mself\u001b[0m\u001b[1;33m.\u001b[0m\u001b[0margs\u001b[0m\u001b[1;33m,\u001b[0m \u001b[0mself\u001b[0m\u001b[1;33m.\u001b[0m\u001b[0mkwds\u001b[0m\u001b[1;33m,\u001b[0m \u001b[0mself\u001b[0m\u001b[1;33m.\u001b[0m\u001b[0mfunc\u001b[0m\u001b[1;33m\u001b[0m\u001b[1;33m\u001b[0m\u001b[0m\n\u001b[0;32m    116\u001b[0m         \u001b[1;32mtry\u001b[0m\u001b[1;33m:\u001b[0m\u001b[1;33m\u001b[0m\u001b[1;33m\u001b[0m\u001b[0m\n\u001b[1;32m--> 117\u001b[1;33m             \u001b[1;32mreturn\u001b[0m \u001b[0mnext\u001b[0m\u001b[1;33m(\u001b[0m\u001b[0mself\u001b[0m\u001b[1;33m.\u001b[0m\u001b[0mgen\u001b[0m\u001b[1;33m)\u001b[0m\u001b[1;33m\u001b[0m\u001b[1;33m\u001b[0m\u001b[0m\n\u001b[0m\u001b[0;32m    118\u001b[0m         \u001b[1;32mexcept\u001b[0m \u001b[0mStopIteration\u001b[0m\u001b[1;33m:\u001b[0m\u001b[1;33m\u001b[0m\u001b[1;33m\u001b[0m\u001b[0m\n\u001b[0;32m    119\u001b[0m             \u001b[1;32mraise\u001b[0m \u001b[0mRuntimeError\u001b[0m\u001b[1;33m(\u001b[0m\u001b[1;34m\"generator didn't yield\"\u001b[0m\u001b[1;33m)\u001b[0m \u001b[1;32mfrom\u001b[0m \u001b[1;32mNone\u001b[0m\u001b[1;33m\u001b[0m\u001b[1;33m\u001b[0m\u001b[0m\n",
      "\u001b[1;32m~\\AppData\\Roaming\\Python\\Python39\\site-packages\\scipy\\io\\matlab\\mio.py\u001b[0m in \u001b[0;36m_open_file_context\u001b[1;34m(file_like, appendmat, mode)\u001b[0m\n\u001b[0;32m     15\u001b[0m \u001b[1;33m@\u001b[0m\u001b[0mcontextmanager\u001b[0m\u001b[1;33m\u001b[0m\u001b[1;33m\u001b[0m\u001b[0m\n\u001b[0;32m     16\u001b[0m \u001b[1;32mdef\u001b[0m \u001b[0m_open_file_context\u001b[0m\u001b[1;33m(\u001b[0m\u001b[0mfile_like\u001b[0m\u001b[1;33m,\u001b[0m \u001b[0mappendmat\u001b[0m\u001b[1;33m,\u001b[0m \u001b[0mmode\u001b[0m\u001b[1;33m=\u001b[0m\u001b[1;34m'rb'\u001b[0m\u001b[1;33m)\u001b[0m\u001b[1;33m:\u001b[0m\u001b[1;33m\u001b[0m\u001b[1;33m\u001b[0m\u001b[0m\n\u001b[1;32m---> 17\u001b[1;33m     \u001b[0mf\u001b[0m\u001b[1;33m,\u001b[0m \u001b[0mopened\u001b[0m \u001b[1;33m=\u001b[0m \u001b[0m_open_file\u001b[0m\u001b[1;33m(\u001b[0m\u001b[0mfile_like\u001b[0m\u001b[1;33m,\u001b[0m \u001b[0mappendmat\u001b[0m\u001b[1;33m,\u001b[0m \u001b[0mmode\u001b[0m\u001b[1;33m)\u001b[0m\u001b[1;33m\u001b[0m\u001b[1;33m\u001b[0m\u001b[0m\n\u001b[0m\u001b[0;32m     18\u001b[0m     \u001b[1;32mtry\u001b[0m\u001b[1;33m:\u001b[0m\u001b[1;33m\u001b[0m\u001b[1;33m\u001b[0m\u001b[0m\n\u001b[0;32m     19\u001b[0m         \u001b[1;32myield\u001b[0m \u001b[0mf\u001b[0m\u001b[1;33m\u001b[0m\u001b[1;33m\u001b[0m\u001b[0m\n",
      "\u001b[1;32m~\\AppData\\Roaming\\Python\\Python39\\site-packages\\scipy\\io\\matlab\\mio.py\u001b[0m in \u001b[0;36m_open_file\u001b[1;34m(file_like, appendmat, mode)\u001b[0m\n\u001b[0;32m     43\u001b[0m             \u001b[1;32mif\u001b[0m \u001b[0mappendmat\u001b[0m \u001b[1;32mand\u001b[0m \u001b[1;32mnot\u001b[0m \u001b[0mfile_like\u001b[0m\u001b[1;33m.\u001b[0m\u001b[0mendswith\u001b[0m\u001b[1;33m(\u001b[0m\u001b[1;34m'.mat'\u001b[0m\u001b[1;33m)\u001b[0m\u001b[1;33m:\u001b[0m\u001b[1;33m\u001b[0m\u001b[1;33m\u001b[0m\u001b[0m\n\u001b[0;32m     44\u001b[0m                 \u001b[0mfile_like\u001b[0m \u001b[1;33m+=\u001b[0m \u001b[1;34m'.mat'\u001b[0m\u001b[1;33m\u001b[0m\u001b[1;33m\u001b[0m\u001b[0m\n\u001b[1;32m---> 45\u001b[1;33m             \u001b[1;32mreturn\u001b[0m \u001b[0mopen\u001b[0m\u001b[1;33m(\u001b[0m\u001b[0mfile_like\u001b[0m\u001b[1;33m,\u001b[0m \u001b[0mmode\u001b[0m\u001b[1;33m)\u001b[0m\u001b[1;33m,\u001b[0m \u001b[1;32mTrue\u001b[0m\u001b[1;33m\u001b[0m\u001b[1;33m\u001b[0m\u001b[0m\n\u001b[0m\u001b[0;32m     46\u001b[0m         \u001b[1;32melse\u001b[0m\u001b[1;33m:\u001b[0m\u001b[1;33m\u001b[0m\u001b[1;33m\u001b[0m\u001b[0m\n\u001b[0;32m     47\u001b[0m             raise IOError(\n",
      "\u001b[1;31mFileNotFoundError\u001b[0m: [Errno 2] No such file or directory: '/gt/frankfurt/.mat'"
     ]
    }
   ],
   "source": [
    "# colors = scipy.io.loadmat(os.path.join(src_dir, 'color150.mat'))\n",
    "# colors = scipy.io.loadmat(src_dir)"
   ]
  },
  {
   "cell_type": "code",
   "execution_count": 3,
   "metadata": {},
   "outputs": [],
   "source": [
    "colors['colors']"
   ]
  },
  {
   "cell_type": "code",
   "execution_count": null,
   "metadata": {},
   "outputs": [],
   "source": [
    "#  основное тело \n",
    "'!'\n",
    "'   Иинициализация     '\n",
    "'   Получение имени файла     '\n",
    "'   Получение списка имен     '\n",
    "'   Получение цветовой гаммы    '\n",
    "'!'"
   ]
  },
  {
   "cell_type": "code",
   "execution_count": 18,
   "metadata": {
    "collapsed": true
   },
   "outputs": [],
   "source": [
    "class ADE20kDataset:\n",
    "    def __init__(self, path, split):\n",
    "        self.path = path\n",
    "        self.colors = scipy.io.loadmat(os.path.join(self.path, 'color150.mat'))['colors']\n",
    "        # self.int_colors = (self.colors * 255).astype('uint8')\n",
    "        self.int_colors = k_colors\n",
    "        \n",
    "        map_path = os.path.join(self.path, 'mapFromADE.csv')\n",
    "        with open(map_path) as f:\n",
    "            lines = f.readlines()\n",
    "\n",
    "        self.ADE20k_dict = {}\n",
    "\n",
    "        for l in lines:\n",
    "            pattern = '\\d+'\n",
    "            vals =  re.findall(pattern, l)\n",
    "            self.ADE20k_dict[int(vals[1])] = int(vals[0])\n",
    "        \n",
    "        self.color_path = os.path.join(self.path, 'images',  split, 's', 'street')\n",
    "        self.label_path = os.path.join(self.path, 'images',  split, 's', 'street')\n",
    "        \n",
    "        self.image_names = self.get_image_names(self.color_path)\n",
    "        self.label_names = self.get_label_names(self.label_path)\n",
    "        \n",
    "        # self.circle = create_circular_mask(7, 7)\n",
    "        \n",
    "    def get_image_names(self, path):\n",
    "        result = os.listdir(path)\n",
    "        # result = sorted(, key=lambda x: int(x.split('.')[0][10:19]))\n",
    "        result = list(filter(lambda x: '.jpg' in x, result))\n",
    "        \n",
    "        return result\n",
    "    \n",
    "    def get_label_names(self, path):\n",
    "        result = [x.split('.')[0] + '_seg.png' for x in self.image_names]\n",
    "        \n",
    "        return result\n",
    "            \n",
    "    def label2color(self, img):\n",
    "        result = np.zeros((img.shape[0], img.shape[1], 3), dtype='uint8')\n",
    "        \n",
    "        for c_id in range(self.colors.shape[0]):\n",
    "            mask = img == c_id\n",
    "            #mask = ndimage.binary_closing(mask, structure=self.circle, iterations=2).astype(bool)\n",
    "            result[mask] = self.int_colors[c_id]\n",
    "        \n",
    "        return result\n",
    "    \n",
    "    def __len__(self):\n",
    "        return len(self.image_names)\n",
    "    \n",
    "    def __getitem__(self, idx):\n",
    "        try:\n",
    "            img = Image.open(os.path.join(self.color_path, self.image_names[idx])).convert('RGB')\n",
    "        except OSError:\n",
    "            return {'color':None}\n",
    "        \n",
    "        label_name = self.label_names[idx]\n",
    "        label_name_1 = label_name.replace('_seg', '_parts_1')\n",
    "        label_name_2 = label_name.replace('_seg', '_parts_2')\n",
    "        label = Image.open(os.path.join(self.color_path, label_name)).convert('RGB')\n",
    "        class_arr = np.array(label)\n",
    "        l_path_1 = os.path.join(self.color_path, label_name_1)\n",
    "        l_path_2 = os.path.join(self.color_path, label_name_2)\n",
    "        if os.path.exists(l_path_1):\n",
    "            label_1 = Image.open(l_path_1).convert('RGB')\n",
    "            class_arr_1 = np.array(label_1)\n",
    "        else:\n",
    "            class_arr_1 = np.zeros_like(class_arr)\n",
    "        if os.path.exists(l_path_2):\n",
    "            label_2 = Image.open(l_path_2).convert('RGB')\n",
    "            class_arr_2 = np.array(label_2)\n",
    "        else:\n",
    "            class_arr_2 = np.zeros_like(class_arr)\n",
    "        \n",
    "        fn, ext = os.path.splitext(self.image_names[idx])\n",
    "        \n",
    "        labels = []\n",
    "        \n",
    "        img_arr = np.array(img)\n",
    "\n",
    "        \n",
    "        \n",
    "        if len(img_arr.shape) < 2:\n",
    "            return {'color':None}\n",
    "        \n",
    "        if min(img_arr.shape[0], img_arr.shape[1]) == 0:\n",
    "            return {'color':None}\n",
    "        \n",
    "        instance = np.zeros((img_arr.shape[0], img_arr.shape[1]), dtype='uint8')\n",
    "        class_img = np.zeros((img_arr.shape[0], img_arr.shape[1], 3), dtype='uint8')\n",
    "        class_id_img = np.zeros((img_arr.shape[0], img_arr.shape[1]), dtype='uint16')\n",
    "        \n",
    "        class_arr_orig = class_arr.copy()\n",
    "        \n",
    "        parts = [class_arr_1, class_arr_2]\n",
    "        for p in parts:\n",
    "            mask = np.all(p[:,:,0:2] > 0, axis=-1)\n",
    "            class_arr[mask,0:2] = p[mask,0:2]\n",
    "        \n",
    "        class_arr_16 = class_arr.astype('uint16')\n",
    "        class_arr_16 = (class_arr_16[:,:,0]/10 * 256 + class_arr_16[:,:,1]).astype('uint16')\n",
    "        \n",
    "        \n",
    "        ids = np.unique(class_arr_16)\n",
    "        for c_id in ids:\n",
    "            if c_id == 0:\n",
    "                continue\n",
    "            \n",
    "            mask = class_arr_16 == c_id\n",
    "            #c_id_150 = self.ADE20k_dict[c_id]\n",
    "            class_id_img[mask] = c_id\n",
    "            \n",
    "            class_img[mask] = all_colors[c_id]#self.colors[c_id_150-1]\n",
    "        \n",
    "        instance_dict = {}\n",
    "        \n",
    "        class_arr_16_orig = class_arr_orig.astype('uint16')\n",
    "        class_arr_16_orig = (class_arr_16_orig[:,:,0]/10 * 256 + class_arr_16_orig[:,:,1]).astype('uint16')\n",
    "        mask = class_arr_16_orig == 401\n",
    "        mask = mask.astype('bool')\n",
    "        instance = class_arr_orig[:,:,2]\n",
    "        instance = instance * mask\n",
    "        \n",
    "        instance_dict[1] = instance\n",
    "        \n",
    "        '''\n",
    "        for i, l in enumerate(label_names):\n",
    "            label = Image.open(os.path.join(self.label_path, l))\n",
    "            img = np.array(label)\n",
    "            if len(img.shape) < 3:\n",
    "                continue\n",
    "            img = img[:,:,0]\n",
    "            label_img = self.label2color(img)\n",
    "            label_img = Image.fromarray(label_img)\n",
    "            \n",
    "            class_img += label_img\n",
    "            class_id_img += img\n",
    "            \n",
    "            mask = img > 0\n",
    "            mask = ndimage.binary_closing(mask, structure=self.circle, iterations=2).astype(bool)\n",
    "            instance[mask] = i+1\n",
    "            \n",
    "            labels.append(label_img)\n",
    "        \n",
    "        instance_dict[1] = instance'''\n",
    "            \n",
    "        \n",
    "        return {'color':img_arr, 'class':class_img, 'class_id':class_id_img, 'instance':instance_dict, 'name':fn}"
   ]
  },
  {
   "cell_type": "code",
   "execution_count": 14,
   "metadata": {
    "collapsed": true
   },
   "outputs": [
    {
     "output_type": "error",
     "ename": "FileNotFoundError",
     "evalue": "[Errno 2] No such file or directory: '/Volumes/Ginger/Datasets/ADE20K_2016_07_26/color150.mat'",
     "traceback": [
      "\u001b[1;31m---------------------------------------------------------------------------\u001b[0m",
      "\u001b[1;31mFileNotFoundError\u001b[0m                         Traceback (most recent call last)",
      "\u001b[1;32m~\\AppData\\Roaming\\Python\\Python39\\site-packages\\scipy\\io\\matlab\\mio.py\u001b[0m in \u001b[0;36m_open_file\u001b[1;34m(file_like, appendmat, mode)\u001b[0m\n\u001b[0;32m     38\u001b[0m     \u001b[1;32mtry\u001b[0m\u001b[1;33m:\u001b[0m\u001b[1;33m\u001b[0m\u001b[1;33m\u001b[0m\u001b[0m\n\u001b[1;32m---> 39\u001b[1;33m         \u001b[1;32mreturn\u001b[0m \u001b[0mopen\u001b[0m\u001b[1;33m(\u001b[0m\u001b[0mfile_like\u001b[0m\u001b[1;33m,\u001b[0m \u001b[0mmode\u001b[0m\u001b[1;33m)\u001b[0m\u001b[1;33m,\u001b[0m \u001b[1;32mTrue\u001b[0m\u001b[1;33m\u001b[0m\u001b[1;33m\u001b[0m\u001b[0m\n\u001b[0m\u001b[0;32m     40\u001b[0m     \u001b[1;32mexcept\u001b[0m \u001b[0mIOError\u001b[0m \u001b[1;32mas\u001b[0m \u001b[0me\u001b[0m\u001b[1;33m:\u001b[0m\u001b[1;33m\u001b[0m\u001b[1;33m\u001b[0m\u001b[0m\n",
      "\u001b[1;31mFileNotFoundError\u001b[0m: [Errno 2] No such file or directory: '/Volumes/Ginger/Datasets/ADE20K_2016_07_26/color150.mat'",
      "\nDuring handling of the above exception, another exception occurred:\n",
      "\u001b[1;31mFileNotFoundError\u001b[0m                         Traceback (most recent call last)",
      "\u001b[1;32m~\\AppData\\Local\\Temp/ipykernel_13620/121290297.py\u001b[0m in \u001b[0;36m<module>\u001b[1;34m\u001b[0m\n\u001b[1;32m----> 1\u001b[1;33m \u001b[0mds\u001b[0m \u001b[1;33m=\u001b[0m \u001b[0mADE20kDataset\u001b[0m\u001b[1;33m(\u001b[0m\u001b[0msrc_dir\u001b[0m\u001b[1;33m,\u001b[0m \u001b[1;34m'validation'\u001b[0m\u001b[1;33m)\u001b[0m\u001b[1;33m\u001b[0m\u001b[1;33m\u001b[0m\u001b[0m\n\u001b[0m",
      "\u001b[1;32m~\\AppData\\Local\\Temp/ipykernel_13620/4269960684.py\u001b[0m in \u001b[0;36m__init__\u001b[1;34m(self, path, split)\u001b[0m\n\u001b[0;32m      2\u001b[0m     \u001b[1;32mdef\u001b[0m \u001b[0m__init__\u001b[0m\u001b[1;33m(\u001b[0m\u001b[0mself\u001b[0m\u001b[1;33m,\u001b[0m \u001b[0mpath\u001b[0m\u001b[1;33m,\u001b[0m \u001b[0msplit\u001b[0m\u001b[1;33m)\u001b[0m\u001b[1;33m:\u001b[0m\u001b[1;33m\u001b[0m\u001b[1;33m\u001b[0m\u001b[0m\n\u001b[0;32m      3\u001b[0m         \u001b[0mself\u001b[0m\u001b[1;33m.\u001b[0m\u001b[0mpath\u001b[0m \u001b[1;33m=\u001b[0m \u001b[0mpath\u001b[0m\u001b[1;33m\u001b[0m\u001b[1;33m\u001b[0m\u001b[0m\n\u001b[1;32m----> 4\u001b[1;33m         \u001b[0mself\u001b[0m\u001b[1;33m.\u001b[0m\u001b[0mcolors\u001b[0m \u001b[1;33m=\u001b[0m \u001b[0mscipy\u001b[0m\u001b[1;33m.\u001b[0m\u001b[0mio\u001b[0m\u001b[1;33m.\u001b[0m\u001b[0mloadmat\u001b[0m\u001b[1;33m(\u001b[0m\u001b[0mos\u001b[0m\u001b[1;33m.\u001b[0m\u001b[0mpath\u001b[0m\u001b[1;33m.\u001b[0m\u001b[0mjoin\u001b[0m\u001b[1;33m(\u001b[0m\u001b[0mself\u001b[0m\u001b[1;33m.\u001b[0m\u001b[0mpath\u001b[0m\u001b[1;33m,\u001b[0m \u001b[1;34m'color150.mat'\u001b[0m\u001b[1;33m)\u001b[0m\u001b[1;33m)\u001b[0m\u001b[1;33m[\u001b[0m\u001b[1;34m'colors'\u001b[0m\u001b[1;33m]\u001b[0m\u001b[1;33m\u001b[0m\u001b[1;33m\u001b[0m\u001b[0m\n\u001b[0m\u001b[0;32m      5\u001b[0m         \u001b[1;31m# self.int_colors = (self.colors * 255).astype('uint8')\u001b[0m\u001b[1;33m\u001b[0m\u001b[1;33m\u001b[0m\u001b[1;33m\u001b[0m\u001b[0m\n\u001b[0;32m      6\u001b[0m         \u001b[0mself\u001b[0m\u001b[1;33m.\u001b[0m\u001b[0mint_colors\u001b[0m \u001b[1;33m=\u001b[0m \u001b[0mk_colors\u001b[0m\u001b[1;33m\u001b[0m\u001b[1;33m\u001b[0m\u001b[0m\n",
      "\u001b[1;32m~\\AppData\\Roaming\\Python\\Python39\\site-packages\\scipy\\io\\matlab\\mio.py\u001b[0m in \u001b[0;36mloadmat\u001b[1;34m(file_name, mdict, appendmat, **kwargs)\u001b[0m\n\u001b[0;32m    222\u001b[0m     \"\"\"\n\u001b[0;32m    223\u001b[0m     \u001b[0mvariable_names\u001b[0m \u001b[1;33m=\u001b[0m \u001b[0mkwargs\u001b[0m\u001b[1;33m.\u001b[0m\u001b[0mpop\u001b[0m\u001b[1;33m(\u001b[0m\u001b[1;34m'variable_names'\u001b[0m\u001b[1;33m,\u001b[0m \u001b[1;32mNone\u001b[0m\u001b[1;33m)\u001b[0m\u001b[1;33m\u001b[0m\u001b[1;33m\u001b[0m\u001b[0m\n\u001b[1;32m--> 224\u001b[1;33m     \u001b[1;32mwith\u001b[0m \u001b[0m_open_file_context\u001b[0m\u001b[1;33m(\u001b[0m\u001b[0mfile_name\u001b[0m\u001b[1;33m,\u001b[0m \u001b[0mappendmat\u001b[0m\u001b[1;33m)\u001b[0m \u001b[1;32mas\u001b[0m \u001b[0mf\u001b[0m\u001b[1;33m:\u001b[0m\u001b[1;33m\u001b[0m\u001b[1;33m\u001b[0m\u001b[0m\n\u001b[0m\u001b[0;32m    225\u001b[0m         \u001b[0mMR\u001b[0m\u001b[1;33m,\u001b[0m \u001b[0m_\u001b[0m \u001b[1;33m=\u001b[0m \u001b[0mmat_reader_factory\u001b[0m\u001b[1;33m(\u001b[0m\u001b[0mf\u001b[0m\u001b[1;33m,\u001b[0m \u001b[1;33m**\u001b[0m\u001b[0mkwargs\u001b[0m\u001b[1;33m)\u001b[0m\u001b[1;33m\u001b[0m\u001b[1;33m\u001b[0m\u001b[0m\n\u001b[0;32m    226\u001b[0m         \u001b[0mmatfile_dict\u001b[0m \u001b[1;33m=\u001b[0m \u001b[0mMR\u001b[0m\u001b[1;33m.\u001b[0m\u001b[0mget_variables\u001b[0m\u001b[1;33m(\u001b[0m\u001b[0mvariable_names\u001b[0m\u001b[1;33m)\u001b[0m\u001b[1;33m\u001b[0m\u001b[1;33m\u001b[0m\u001b[0m\n",
      "\u001b[1;32mC:\\Program Files\\Python39\\lib\\contextlib.py\u001b[0m in \u001b[0;36m__enter__\u001b[1;34m(self)\u001b[0m\n\u001b[0;32m    115\u001b[0m         \u001b[1;32mdel\u001b[0m \u001b[0mself\u001b[0m\u001b[1;33m.\u001b[0m\u001b[0margs\u001b[0m\u001b[1;33m,\u001b[0m \u001b[0mself\u001b[0m\u001b[1;33m.\u001b[0m\u001b[0mkwds\u001b[0m\u001b[1;33m,\u001b[0m \u001b[0mself\u001b[0m\u001b[1;33m.\u001b[0m\u001b[0mfunc\u001b[0m\u001b[1;33m\u001b[0m\u001b[1;33m\u001b[0m\u001b[0m\n\u001b[0;32m    116\u001b[0m         \u001b[1;32mtry\u001b[0m\u001b[1;33m:\u001b[0m\u001b[1;33m\u001b[0m\u001b[1;33m\u001b[0m\u001b[0m\n\u001b[1;32m--> 117\u001b[1;33m             \u001b[1;32mreturn\u001b[0m \u001b[0mnext\u001b[0m\u001b[1;33m(\u001b[0m\u001b[0mself\u001b[0m\u001b[1;33m.\u001b[0m\u001b[0mgen\u001b[0m\u001b[1;33m)\u001b[0m\u001b[1;33m\u001b[0m\u001b[1;33m\u001b[0m\u001b[0m\n\u001b[0m\u001b[0;32m    118\u001b[0m         \u001b[1;32mexcept\u001b[0m \u001b[0mStopIteration\u001b[0m\u001b[1;33m:\u001b[0m\u001b[1;33m\u001b[0m\u001b[1;33m\u001b[0m\u001b[0m\n\u001b[0;32m    119\u001b[0m             \u001b[1;32mraise\u001b[0m \u001b[0mRuntimeError\u001b[0m\u001b[1;33m(\u001b[0m\u001b[1;34m\"generator didn't yield\"\u001b[0m\u001b[1;33m)\u001b[0m \u001b[1;32mfrom\u001b[0m \u001b[1;32mNone\u001b[0m\u001b[1;33m\u001b[0m\u001b[1;33m\u001b[0m\u001b[0m\n",
      "\u001b[1;32m~\\AppData\\Roaming\\Python\\Python39\\site-packages\\scipy\\io\\matlab\\mio.py\u001b[0m in \u001b[0;36m_open_file_context\u001b[1;34m(file_like, appendmat, mode)\u001b[0m\n\u001b[0;32m     15\u001b[0m \u001b[1;33m@\u001b[0m\u001b[0mcontextmanager\u001b[0m\u001b[1;33m\u001b[0m\u001b[1;33m\u001b[0m\u001b[0m\n\u001b[0;32m     16\u001b[0m \u001b[1;32mdef\u001b[0m \u001b[0m_open_file_context\u001b[0m\u001b[1;33m(\u001b[0m\u001b[0mfile_like\u001b[0m\u001b[1;33m,\u001b[0m \u001b[0mappendmat\u001b[0m\u001b[1;33m,\u001b[0m \u001b[0mmode\u001b[0m\u001b[1;33m=\u001b[0m\u001b[1;34m'rb'\u001b[0m\u001b[1;33m)\u001b[0m\u001b[1;33m:\u001b[0m\u001b[1;33m\u001b[0m\u001b[1;33m\u001b[0m\u001b[0m\n\u001b[1;32m---> 17\u001b[1;33m     \u001b[0mf\u001b[0m\u001b[1;33m,\u001b[0m \u001b[0mopened\u001b[0m \u001b[1;33m=\u001b[0m \u001b[0m_open_file\u001b[0m\u001b[1;33m(\u001b[0m\u001b[0mfile_like\u001b[0m\u001b[1;33m,\u001b[0m \u001b[0mappendmat\u001b[0m\u001b[1;33m,\u001b[0m \u001b[0mmode\u001b[0m\u001b[1;33m)\u001b[0m\u001b[1;33m\u001b[0m\u001b[1;33m\u001b[0m\u001b[0m\n\u001b[0m\u001b[0;32m     18\u001b[0m     \u001b[1;32mtry\u001b[0m\u001b[1;33m:\u001b[0m\u001b[1;33m\u001b[0m\u001b[1;33m\u001b[0m\u001b[0m\n\u001b[0;32m     19\u001b[0m         \u001b[1;32myield\u001b[0m \u001b[0mf\u001b[0m\u001b[1;33m\u001b[0m\u001b[1;33m\u001b[0m\u001b[0m\n",
      "\u001b[1;32m~\\AppData\\Roaming\\Python\\Python39\\site-packages\\scipy\\io\\matlab\\mio.py\u001b[0m in \u001b[0;36m_open_file\u001b[1;34m(file_like, appendmat, mode)\u001b[0m\n\u001b[0;32m     43\u001b[0m             \u001b[1;32mif\u001b[0m \u001b[0mappendmat\u001b[0m \u001b[1;32mand\u001b[0m \u001b[1;32mnot\u001b[0m \u001b[0mfile_like\u001b[0m\u001b[1;33m.\u001b[0m\u001b[0mendswith\u001b[0m\u001b[1;33m(\u001b[0m\u001b[1;34m'.mat'\u001b[0m\u001b[1;33m)\u001b[0m\u001b[1;33m:\u001b[0m\u001b[1;33m\u001b[0m\u001b[1;33m\u001b[0m\u001b[0m\n\u001b[0;32m     44\u001b[0m                 \u001b[0mfile_like\u001b[0m \u001b[1;33m+=\u001b[0m \u001b[1;34m'.mat'\u001b[0m\u001b[1;33m\u001b[0m\u001b[1;33m\u001b[0m\u001b[0m\n\u001b[1;32m---> 45\u001b[1;33m             \u001b[1;32mreturn\u001b[0m \u001b[0mopen\u001b[0m\u001b[1;33m(\u001b[0m\u001b[0mfile_like\u001b[0m\u001b[1;33m,\u001b[0m \u001b[0mmode\u001b[0m\u001b[1;33m)\u001b[0m\u001b[1;33m,\u001b[0m \u001b[1;32mTrue\u001b[0m\u001b[1;33m\u001b[0m\u001b[1;33m\u001b[0m\u001b[0m\n\u001b[0m\u001b[0;32m     46\u001b[0m         \u001b[1;32melse\u001b[0m\u001b[1;33m:\u001b[0m\u001b[1;33m\u001b[0m\u001b[1;33m\u001b[0m\u001b[0m\n\u001b[0;32m     47\u001b[0m             raise IOError(\n",
      "\u001b[1;31mFileNotFoundError\u001b[0m: [Errno 2] No such file or directory: '/Volumes/Ginger/Datasets/ADE20K_2016_07_26/color150.mat'"
     ]
    }
   ],
   "source": [
    "ds = ADE20kDataset(src_dir, 'validation')"
   ]
  },
  {
   "cell_type": "code",
   "execution_count": 15,
   "metadata": {
    "collapsed": true
   },
   "outputs": [
    {
     "output_type": "error",
     "ename": "FileNotFoundError",
     "evalue": "[Errno 2] No such file or directory: '/Volumes/Ginger/Datasets/ADE20K_2016_07_26/colornames.csv'",
     "traceback": [
      "\u001b[1;31m---------------------------------------------------------------------------\u001b[0m",
      "\u001b[1;31mFileNotFoundError\u001b[0m                         Traceback (most recent call last)",
      "\u001b[1;32m~\\AppData\\Local\\Temp/ipykernel_13620/3176852638.py\u001b[0m in \u001b[0;36m<module>\u001b[1;34m\u001b[0m\n\u001b[0;32m      3\u001b[0m \u001b[0mall_colors\u001b[0m \u001b[1;33m=\u001b[0m \u001b[0mnp\u001b[0m\u001b[1;33m.\u001b[0m\u001b[0mzeros\u001b[0m\u001b[1;33m(\u001b[0m\u001b[1;33m(\u001b[0m\u001b[1;36m3148\u001b[0m\u001b[1;33m,\u001b[0m \u001b[1;36m3\u001b[0m\u001b[1;33m)\u001b[0m\u001b[1;33m,\u001b[0m \u001b[0mdtype\u001b[0m\u001b[1;33m=\u001b[0m\u001b[1;34m'uint8'\u001b[0m\u001b[1;33m)\u001b[0m\u001b[1;33m\u001b[0m\u001b[1;33m\u001b[0m\u001b[0m\n\u001b[0;32m      4\u001b[0m \u001b[1;33m\u001b[0m\u001b[0m\n\u001b[1;32m----> 5\u001b[1;33m \u001b[1;32mwith\u001b[0m \u001b[0mopen\u001b[0m\u001b[1;33m(\u001b[0m\u001b[0mcolors_path\u001b[0m\u001b[1;33m)\u001b[0m \u001b[1;32mas\u001b[0m \u001b[0mf\u001b[0m\u001b[1;33m:\u001b[0m\u001b[1;33m\u001b[0m\u001b[1;33m\u001b[0m\u001b[0m\n\u001b[0m\u001b[0;32m      6\u001b[0m     \u001b[0mlines\u001b[0m \u001b[1;33m=\u001b[0m \u001b[0mf\u001b[0m\u001b[1;33m.\u001b[0m\u001b[0mreadlines\u001b[0m\u001b[1;33m(\u001b[0m\u001b[1;33m)\u001b[0m\u001b[1;33m\u001b[0m\u001b[1;33m\u001b[0m\u001b[0m\n\u001b[0;32m      7\u001b[0m \u001b[1;33m\u001b[0m\u001b[0m\n",
      "\u001b[1;31mFileNotFoundError\u001b[0m: [Errno 2] No such file or directory: '/Volumes/Ginger/Datasets/ADE20K_2016_07_26/colornames.csv'"
     ]
    }
   ],
   "source": [
    "colors_path = os.path.join(src_dir, 'colornames.csv')\n",
    "\n",
    "all_colors = np.zeros((3148, 3), dtype='uint8')\n",
    "\n",
    "with open(colors_path) as f:\n",
    "    lines = f.readlines()\n",
    "\n",
    "for i, l in enumerate(lines[1:]):\n",
    "    if i >= all_colors.shape[0]:\n",
    "        break\n",
    "    vals =  l.split(',')\n",
    "    h = vals[1].lstrip('#')\n",
    "    rgb = tuple(int(h[i:i+2], 16) for i in (0, 2, 4))\n",
    "    all_colors[i,:] = rgb\n",
    "    #print(vals)\n",
    "\n",
    "all_colors[0] = [0, 0 ,0]"
   ]
  },
  {
   "cell_type": "code",
   "execution_count": 16,
   "metadata": {
    "collapsed": true,
    "scrolled": true
   },
   "outputs": [
    {
     "output_type": "error",
     "ename": "NameError",
     "evalue": "name 'ds' is not defined",
     "traceback": [
      "\u001b[1;31m---------------------------------------------------------------------------\u001b[0m",
      "\u001b[1;31mNameError\u001b[0m                                 Traceback (most recent call last)",
      "\u001b[1;32m~\\AppData\\Local\\Temp/ipykernel_13620/2580045712.py\u001b[0m in \u001b[0;36m<module>\u001b[1;34m\u001b[0m\n\u001b[1;32m----> 1\u001b[1;33m \u001b[1;32mfor\u001b[0m \u001b[0mkey\u001b[0m\u001b[1;33m,\u001b[0m \u001b[0mval\u001b[0m \u001b[1;32min\u001b[0m \u001b[0mds\u001b[0m\u001b[1;33m.\u001b[0m\u001b[0mADE20k_dict\u001b[0m\u001b[1;33m.\u001b[0m\u001b[0mitems\u001b[0m\u001b[1;33m(\u001b[0m\u001b[1;33m)\u001b[0m\u001b[1;33m:\u001b[0m\u001b[1;33m\u001b[0m\u001b[1;33m\u001b[0m\u001b[0m\n\u001b[0m\u001b[0;32m      2\u001b[0m     \u001b[0mall_colors\u001b[0m\u001b[1;33m[\u001b[0m\u001b[0mkey\u001b[0m\u001b[1;33m]\u001b[0m \u001b[1;33m=\u001b[0m \u001b[0mds\u001b[0m\u001b[1;33m.\u001b[0m\u001b[0mcolors\u001b[0m\u001b[1;33m[\u001b[0m\u001b[0mval\u001b[0m\u001b[1;33m-\u001b[0m\u001b[1;36m1\u001b[0m\u001b[1;33m]\u001b[0m\u001b[1;33m\u001b[0m\u001b[1;33m\u001b[0m\u001b[0m\n",
      "\u001b[1;31mNameError\u001b[0m: name 'ds' is not defined"
     ]
    }
   ],
   "source": [
    "for key, val in ds.ADE20k_dict.items():\n",
    "    all_colors[key] = ds.colors[val-1]"
   ]
  },
  {
   "cell_type": "code",
   "execution_count": 17,
   "metadata": {},
   "outputs": [
    {
     "output_type": "error",
     "ename": "NameError",
     "evalue": "name 'ds' is not defined",
     "traceback": [
      "\u001b[1;31m---------------------------------------------------------------------------\u001b[0m",
      "\u001b[1;31mNameError\u001b[0m                                 Traceback (most recent call last)",
      "\u001b[1;32m~\\AppData\\Local\\Temp/ipykernel_13620/4115947328.py\u001b[0m in \u001b[0;36m<module>\u001b[1;34m\u001b[0m\n\u001b[1;32m----> 1\u001b[1;33m \u001b[0mlen\u001b[0m\u001b[1;33m(\u001b[0m\u001b[0mds\u001b[0m\u001b[1;33m)\u001b[0m\u001b[1;33m\u001b[0m\u001b[1;33m\u001b[0m\u001b[0m\n\u001b[0m",
      "\u001b[1;31mNameError\u001b[0m: name 'ds' is not defined"
     ]
    }
   ],
   "source": [
    "len(ds)"
   ]
  },
  {
   "cell_type": "code",
   "execution_count": 19,
   "metadata": {
    "collapsed": true
   },
   "outputs": [],
   "source": [
    "img = ds[0]['instance'][1]"
   ]
  },
  {
   "cell_type": "code",
   "execution_count": null,
   "metadata": {},
   "outputs": [],
   "source": [
    "# отрисовка машинки"
   ]
  },
  {
   "cell_type": "code",
   "execution_count": 20,
   "metadata": {},
   "outputs": [
    {
     "data": {
      "text/plain": [
       "(1200, 1600)"
      ]
     },
     "execution_count": 20,
     "metadata": {},
     "output_type": "execute_result"
    }
   ],
   "source": [
    "img.shape"
   ]
  },
  {
   "cell_type": "code",
   "execution_count": 21,
   "metadata": {},
   "outputs": [
    {
     "data": {
      "image/png": "[encoded data removed]",
      "text/plain": [
       "<Figure size 432x288 with 1 Axes>"
      ]
     },
     "metadata": {},
     "output_type": "display_data"
    }
   ],
   "source": [
    "show_image(img)"
   ]
  },
  {
   "cell_type": "code",
   "execution_count": 22,
   "metadata": {
    "collapsed": true
   },
   "outputs": [],
   "source": [
    "class IQDataset:\n",
    "    def __init__(self, dataset):\n",
    "        self.dataset = dataset\n",
    "        \n",
    "    def __len__(self):\n",
    "        return len(self.dataset)\n",
    "        \n",
    "    def __getitem__(self, idx):\n",
    "        item = self.dataset[idx]\n",
    "        \n",
    "        if item['color'] is None:\n",
    "            return {'actors':None}\n",
    "        \n",
    "        color = item['color']\n",
    "        label = item['class']\n",
    "        instance = item['instance'][1]\n",
    "        # num = int(item['name'])\n",
    "        \n",
    "        inst_ids = np.unique(instance)\n",
    "        # print(inst_ids)\n",
    "        \n",
    "        actors = {1:[]}\n",
    "        \n",
    "        for inst_id_idx in range(1, inst_ids.shape[0]):\n",
    "            inst_id = inst_ids[inst_id_idx]\n",
    "            actor = {}\n",
    "\n",
    "            mask = instance == inst_id\n",
    "            \n",
    "            if mask.sum() == 0:\n",
    "                continue\n",
    "            rmin, rmax, cmin, cmax = bbox2(mask)\n",
    "            \n",
    "            crop_color = (color * mask[:,:,None])[rmin:rmax, cmin:cmax]\n",
    "            crop_label = (label * mask[:,:,None])[rmin:rmax, cmin:cmax]\n",
    "            crop_mask = mask[rmin:rmax, cmin:cmax]\n",
    "            \n",
    "            crop_color = pad_square_rgb(crop_color, mode='constant')\n",
    "            crop_label = pad_square_rgb(crop_label, mode='constant')\n",
    "            crop_mask = pad_square_rgb(crop_mask, mode='constant')\n",
    "            \n",
    "            actor['color'] = crop_color\n",
    "            actor['class'] = crop_label\n",
    "            actor['mask'] = crop_mask.astype('uint8') * 255\n",
    "            actor['name'] = f'{item[\"name\"]}_{inst_id:03d}'\n",
    "            \n",
    "            actors[1].append(actor)\n",
    "        \n",
    "        return {'actors':actors}"
   ]
  },
  {
   "cell_type": "code",
   "execution_count": 23,
   "metadata": {
    "collapsed": true
   },
   "outputs": [],
   "source": [
    "iqds = IQDataset(ds)"
   ]
  },
  {
   "cell_type": "code",
   "execution_count": 24,
   "metadata": {},
   "outputs": [
    {
     "data": {
      "text/plain": [
       "203"
      ]
     },
     "execution_count": 24,
     "metadata": {},
     "output_type": "execute_result"
    }
   ],
   "source": [
    "len(ds)"
   ]
  },
  {
   "cell_type": "code",
   "execution_count": 25,
   "metadata": {
    "collapsed": true
   },
   "outputs": [],
   "source": [
    "sample = iqds[0]"
   ]
  },
  {
   "cell_type": "code",
   "execution_count": 26,
   "metadata": {},
   "outputs": [
    {
     "data": {
      "image/png": "[encoded data removed]",
      "text/plain": [
       "<Figure size 432x288 with 1 Axes>"
      ]
     },
     "metadata": {},
     "output_type": "display_data"
    }
   ],
   "source": [
    "c_img = sample['actors'][1][0]['class']\n",
    "show_image(c_img)"
   ]
  },
  {
   "cell_type": "code",
   "execution_count": 27,
   "metadata": {
    "collapsed": true
   },
   "outputs": [],
   "source": [
    "dst_dir = '../datasets/ADE20k_actors_val/'"
   ]
  },
  {
   "cell_type": "code",
   "execution_count": 28,
   "metadata": {},
   "outputs": [
    {
     "data": {
      "text/plain": [
       "'ADE_val_00000777_030'"
      ]
     },
     "execution_count": 28,
     "metadata": {},
     "output_type": "execute_result"
    }
   ],
   "source": [
    "iqds[0]['actors'][1][0]['name']"
   ]
  },
  {
   "cell_type": "code",
   "execution_count": 30,
   "metadata": {},
   "outputs": [
    {
     "data": {
      "application/vnd.jupyter.widget-view+json": {
       "model_id": "a394b8afc7ab4b28849dc31d8a953091",
       "version_major": 2,
       "version_minor": 0
      },
      "text/plain": [
       "A Jupyter Widget"
      ]
     },
     "metadata": {},
     "output_type": "display_data"
    }
   ],
   "source": [
    "start = 0\n",
    "pbar = tqdm(total=len(iqds), initial=start)\n",
    "\n",
    "for kk in range(start, len(iqds)):\n",
    "    sample = iqds[kk]\n",
    "    actors = sample['actors']\n",
    "    if actors is None:\n",
    "        pbar.update(1)\n",
    "        continue\n",
    "    for i, a in enumerate(actors[1]):\n",
    "        color = a['color']\n",
    "        mask = a['mask']\n",
    "        label = a['class']\n",
    "        name = a['name']\n",
    "        \n",
    "        dst_color_path = os.path.join(dst_dir, 'ColorImages', f'{name}.png')\n",
    "        dst_label_path = os.path.join(dst_dir, 'Edges', f'{name}.png')\n",
    "        \n",
    "        if os.path.exists(dst_color_path):\n",
    "            continue\n",
    "        \n",
    "        if max(color.shape[0], color.shape[1]) < 410:\n",
    "            pass\n",
    "            # continue\n",
    "            \n",
    "        color = np.dstack((color, mask))\n",
    "        \n",
    "        color = Image.fromarray(color)\n",
    "        label = Image.fromarray(label)\n",
    "        \n",
    "        color = color.resize((512, 512), resample=Image.LANCZOS)\n",
    "        label = label.resize((512, 512), resample=Image.NEAREST)\n",
    "        \n",
    "        color.save(dst_color_path)\n",
    "        label.save(dst_label_path)\n",
    "        \n",
    "    pbar.update(1)"
   ]
  },
  {
   "cell_type": "code",
   "execution_count": 32,
   "metadata": {
    "collapsed": true
   },
   "outputs": [],
   "source": [
    "dst_color_dir = os.path.join(dst_dir, 'ColorImages')\n",
    "dst_label_dir = os.path.join(dst_dir, 'Semantic')\n",
    "dst_noise_dir = os.path.join(dst_dir, 'ColorNoise')"
   ]
  },
  {
   "cell_type": "code",
   "execution_count": 209,
   "metadata": {
    "collapsed": true
   },
   "outputs": [],
   "source": [
    "for f in sorted(os.listdir(dst_label_dir)):\n",
    "    c_fp = os.path.join(dst_color_dir, f)\n",
    "    l_fp = os.path.join(dst_label_dir, f)\n",
    "    \n",
    "    tmp_fp = l_fp + 'BAD'\n",
    "    \n",
    "    if not os.path.exists(c_fp):\n",
    "        #move(l_fp, tmp_fp)\n",
    "        print(c_fp)"
   ]
  },
  {
   "cell_type": "markdown",
   "metadata": {},
   "source": [
    "### Bake color noise"
   ]
  },
  {
   "cell_type": "code",
   "execution_count": 34,
   "metadata": {},
   "outputs": [
    {
     "data": {
      "application/vnd.jupyter.widget-view+json": {
       "model_id": "263918ddb59948d5b536e431e2f8d06f",
       "version_major": 2,
       "version_minor": 0
      },
      "text/plain": [
       "A Jupyter Widget"
      ]
     },
     "metadata": {},
     "output_type": "display_data"
    }
   ],
   "source": [
    "files = os.listdir(dst_color_dir)\n",
    "pbar = tqdm(total=len(files))\n",
    "\n",
    "for f in sorted(files):\n",
    "    c_fp = os.path.join(dst_color_dir, f)\n",
    "    l_fp = os.path.join(dst_label_dir, f)\n",
    "    \n",
    "    dst_fp = os.path.join(dst_noise_dir, f)\n",
    "    \n",
    "    if not '.png' in c_fp:\n",
    "        pbar.update(1)\n",
    "        continue\n",
    "        \n",
    "    c_img = Image.open(c_fp)\n",
    "    l_img = Image.open(l_fp)\n",
    "    \n",
    "    c_img = np.array(c_img)\n",
    "    l_img = np.array(l_img)\n",
    "    \n",
    "    n_img = np.zeros((c_img.shape[0], c_img.shape[1], 3), dtype='uint8')\n",
    "    \n",
    "    colors = np.unique(l_img.reshape(-1, l_img.shape[2]), axis=0)\n",
    "    \n",
    "    for k in range(1, colors.shape[0]):\n",
    "        mask = np.all(l_img == colors[k], axis=-1)\n",
    "        vals = c_img[mask,0:3]\n",
    "        np.random.shuffle(vals)\n",
    "        n_img[mask] = vals\n",
    "    \n",
    "    n_img = Image.fromarray(n_img)\n",
    "    n_img.save(dst_fp)\n",
    "    \n",
    "    # print(c_fp)\n",
    "    # break\n",
    "    pbar.update(1)\n"
   ]
  },
  {
   "cell_type": "markdown",
   "metadata": {},
   "source": [
    "### Bake BG"
   ]
  },
  {
   "cell_type": "code",
   "execution_count": 35,
   "metadata": {
    "collapsed": true
   },
   "outputs": [],
   "source": [
    "dst_bg_color_dir = '../datasets/ADE20k_bg_val/ColorImages/'\n",
    "dst_bg_label_dir = '../datasets/ADE20k_bg_val/Edges/'\n",
    "dst_bg_insts_dir = '../datasets/ADE20k_bg_val/Instance/'"
   ]
  },
  {
   "cell_type": "code",
   "execution_count": 36,
   "metadata": {
    "collapsed": true
   },
   "outputs": [],
   "source": [
    "def ratio_resize(shape, min_target_dim):\n",
    "    new_shape = (0, 0)\n",
    "    # portrait\n",
    "    if shape[0] >= shape[1]:\n",
    "        new_shape = (round(shape[0]/shape[1]*min_target_dim), min_target_dim)\n",
    "    else:\n",
    "        new_shape = (min_target_dim, round(shape[1]/shape[0]*min_target_dim))\n",
    "    \n",
    "    return new_shape"
   ]
  },
  {
   "cell_type": "code",
   "execution_count": 38,
   "metadata": {},
   "outputs": [
    {
     "data": {
      "application/vnd.jupyter.widget-view+json": {
       "model_id": "c87e6b4496d74eaf8291f6bae4178f09",
       "version_major": 2,
       "version_minor": 0
      },
      "text/plain": [
       "A Jupyter Widget"
      ]
     },
     "metadata": {},
     "output_type": "display_data"
    }
   ],
   "source": [
    "start = 0\n",
    "pbar = tqdm(total=len(ds), initial=start)\n",
    "\n",
    "for kk in range(start, len(ds)):\n",
    "    sample = ds[kk]\n",
    "    if sample['color'] is None:\n",
    "        pbar.update(1)\n",
    "        continue\n",
    "    \n",
    "    inst_img = sample['instance'][1]\n",
    "    if inst_img.sum() == 0:\n",
    "        pbar.update(1)\n",
    "        continue\n",
    "    \n",
    "    name = sample['name']\n",
    "    fn, ext = os.path.splitext(name)\n",
    "    padded_name = name # f'{int(name):06d}'\n",
    "    '''if not padded_name in good_names:\n",
    "        pbar.update(1)\n",
    "        continue'''\n",
    "        \n",
    "    # show_image(ds[kk]['color'])\n",
    "    \n",
    "    # Color\n",
    "    col_img = sample['color']\n",
    "    shape = col_img.shape[0:2]\n",
    "    col_img = Image.fromarray(col_img)\n",
    "    \n",
    "    new_shape = ratio_resize(shape, 512)\n",
    "    \n",
    "    col_img = col_img.resize((new_shape[1], new_shape[0]), resample=Image.LANCZOS)\n",
    "    \n",
    "    dst_color_name = os.path.join(dst_bg_color_dir, padded_name+'.png')\n",
    "    \n",
    "    col_img.save(dst_color_name)\n",
    "    \n",
    "    # label\n",
    "    lab_img = sample['class']\n",
    "    inst_img = sample['instance'][1]\n",
    "    mask = (inst_img > 0).astype('bool')\n",
    "    \n",
    "    lab_img = Image.fromarray(lab_img)\n",
    "    lab_img = lab_img.resize((new_shape[1], new_shape[0]), resample=Image.NEAREST)\n",
    "    dst_lab_name = os.path.join(dst_bg_label_dir, padded_name+'.png')\n",
    "    \n",
    "    lab_img.save(dst_lab_name)\n",
    "    \n",
    "    dst_inst_name = os.path.join(dst_bg_insts_dir, padded_name+'.png')\n",
    "    inst_img = Image.fromarray(inst_img)\n",
    "    inst_img = inst_img.resize((new_shape[1], new_shape[0]), resample=Image.NEAREST)\n",
    "    inst_img.save(dst_inst_name)\n",
    "    \n",
    "    pbar.update(1)"
   ]
  },
  {
   "cell_type": "markdown",
   "metadata": {},
   "source": [
    "### Make good files"
   ]
  },
  {
   "cell_type": "code",
   "execution_count": 20,
   "metadata": {
    "collapsed": true
   },
   "outputs": [],
   "source": [
    "dst_good_dir = '/Volumes/Ginger/Datasets/LV-MHP-v2/train/images_good'\n",
    "dst_good_dir_png = '/Volumes/Ginger/Datasets/LV-MHP-v2/train/images_good_png'\n",
    "src_good_dir = '/Volumes/Ginger/Datasets/LV-MHP-v2/val/images'"
   ]
  },
  {
   "cell_type": "code",
   "execution_count": 19,
   "metadata": {},
   "outputs": [
    {
     "data": {
      "application/vnd.jupyter.widget-view+json": {
       "model_id": "2c17ca1f8d5348e1949bc247f90be4f9",
       "version_major": 2,
       "version_minor": 0
      },
      "text/plain": [
       "A Jupyter Widget"
      ]
     },
     "metadata": {},
     "output_type": "display_data"
    }
   ],
   "source": [
    "pbar = tqdm(total=len(good_names))\n",
    "\n",
    "for n in good_names:\n",
    "    name = os.path.join(src_good_dir, str(int(n))+'.jpg')\n",
    "    if os.path.exists(name):\n",
    "        dst_name = os.path.join(dst_good_dir, n+'.jpg')\n",
    "        copy(name, dst_name)\n",
    "        \n",
    "    pbar.update(1)"
   ]
  },
  {
   "cell_type": "code",
   "execution_count": 22,
   "metadata": {},
   "outputs": [
    {
     "data": {
      "application/vnd.jupyter.widget-view+json": {
       "model_id": "1da3456ac35f438797cbf5ae4f607d69",
       "version_major": 2,
       "version_minor": 0
      },
      "text/plain": [
       "A Jupyter Widget"
      ]
     },
     "metadata": {},
     "output_type": "display_data"
    },
    {
     "name": "stderr",
     "output_type": "stream",
     "text": [
      "/Users/vladimirknyaz/anaconda3/lib/python3.6/site-packages/PIL/TiffImagePlugin.py:802: UserWarning: Corrupt EXIF data.  Expecting to read 4 bytes but only got 0. \n",
      "  warnings.warn(str(msg))\n"
     ]
    }
   ],
   "source": [
    "pbar = tqdm(total=len(good_names))\n",
    "\n",
    "for n in good_names:\n",
    "    src_name = os.path.join(dst_good_dir, n+'.jpg')\n",
    "    dst_name = os.path.join(dst_good_dir_png, n+'.png')\n",
    "    \n",
    "    img = Image.open(src_name)\n",
    "    img.save(dst_name)\n",
    "    pbar.update(1)"
   ]
  },
  {
   "cell_type": "markdown",
   "metadata": {},
   "source": [
    "### Bake color noise"
   ]
  },
  {
   "cell_type": "code",
   "execution_count": 17,
   "metadata": {
    "collapsed": true
   },
   "outputs": [],
   "source": [
    "dst_color_dir = '../datasets/ADE20k_bg_val/ColorImages/'\n",
    "dst_label_dir = '../datasets/ADE20k_bg_val/Edges/'\n",
    "dst_noise_dir = '../datasets/ADE20k_bg_val/ColorNoise/'"
   ]
  },
  {
   "cell_type": "code",
   "execution_count": 45,
   "metadata": {},
   "outputs": [
    {
     "data": {
      "application/vnd.jupyter.widget-view+json": {
       "model_id": "898f0d53ddd04c7588df0c390823de81",
       "version_major": 2,
       "version_minor": 0
      },
      "text/plain": [
       "A Jupyter Widget"
      ]
     },
     "metadata": {},
     "output_type": "display_data"
    }
   ],
   "source": [
    "files = os.listdir(dst_color_dir)\n",
    "pbar = tqdm(total=len(files))\n",
    "\n",
    "for f in sorted(files):\n",
    "    c_fp = os.path.join(dst_color_dir, f)\n",
    "    l_fp = os.path.join(dst_label_dir, f)\n",
    "    \n",
    "    dst_fp = os.path.join(dst_noise_dir, f)\n",
    "    \n",
    "    if not '.png' in c_fp:\n",
    "        pbar.update(1)\n",
    "        continue\n",
    "        \n",
    "    c_img = Image.open(c_fp)\n",
    "    l_img = Image.open(l_fp)\n",
    "    \n",
    "    c_img = np.array(c_img)\n",
    "    l_img = np.array(l_img)\n",
    "    \n",
    "    break"
   ]
  },
  {
   "cell_type": "code",
   "execution_count": 55,
   "metadata": {},
   "outputs": [
    {
     "data": {
      "text/plain": [
       "array([[  0,   0,   0],\n",
       "       [ 39, 255, 242],\n",
       "       [ 71, 179, 159],\n",
       "       [ 80,  50,  50],\n",
       "       [120, 120, 120],\n",
       "       [131, 204, 188],\n",
       "       [142,  67,  12],\n",
       "       [144, 191,  73],\n",
       "       [150,   5,  61],\n",
       "       [180, 214, 180],\n",
       "       [218, 138, 105],\n",
       "       [220, 143,  60],\n",
       "       [221,  45,  78],\n",
       "       [222, 168, 142],\n",
       "       [222, 208, 190],\n",
       "       [225, 193, 178],\n",
       "       [230, 250, 177],\n",
       "       [234, 204, 152],\n",
       "       [252, 197, 227],\n",
       "       [252, 226, 177],\n",
       "       [254,  10, 128],\n",
       "       [254, 235, 167],\n",
       "       [254, 236, 212],\n",
       "       [255,   8,  41],\n",
       "       [255, 133, 192],\n",
       "       [255, 204, 121]], dtype=uint8)"
      ]
     },
     "execution_count": 55,
     "metadata": {},
     "output_type": "execute_result"
    }
   ],
   "source": [
    "np.unique(l_img.reshape(-1, l_img.shape[2]), axis=0)"
   ]
  },
  {
   "cell_type": "code",
   "execution_count": 18,
   "metadata": {},
   "outputs": [
    {
     "data": {
      "application/vnd.jupyter.widget-view+json": {
       "model_id": "40935782b0114bb3b63a26550a3260ae",
       "version_major": 2,
       "version_minor": 0
      },
      "text/plain": [
       "A Jupyter Widget"
      ]
     },
     "metadata": {},
     "output_type": "display_data"
    }
   ],
   "source": [
    "files = os.listdir(dst_color_dir)\n",
    "pbar = tqdm(total=len(files))\n",
    "\n",
    "for f in sorted(files):\n",
    "    c_fp = os.path.join(dst_color_dir, f)\n",
    "    l_fp = os.path.join(dst_label_dir, f)\n",
    "    \n",
    "    dst_fp = os.path.join(dst_noise_dir, f)\n",
    "    \n",
    "    if not '.png' in c_fp:\n",
    "        pbar.update(1)\n",
    "        continue\n",
    "        \n",
    "    c_img = Image.open(c_fp)\n",
    "    l_img = Image.open(l_fp)\n",
    "    \n",
    "    c_img = np.array(c_img)\n",
    "    l_img = np.array(l_img)\n",
    "    \n",
    "    n_img = np.zeros((c_img.shape[0], c_img.shape[1], 3), dtype='uint8')\n",
    "    \n",
    "    colors = np.unique(l_img.reshape(-1, l_img.shape[2]), axis=0)\n",
    "    \n",
    "    for k in range(1, colors.shape[0]):\n",
    "        mask = np.all(l_img == colors[k], axis=-1)\n",
    "        vals = c_img[mask,0:3]\n",
    "        np.random.shuffle(vals)\n",
    "        n_img[mask] = vals\n",
    "    \n",
    "    n_img = Image.fromarray(n_img)\n",
    "    n_img.save(dst_fp)\n",
    "    \n",
    "    # print(c_fp)\n",
    "    # break\n",
    "    pbar.update(1)"
   ]
  },
  {
   "cell_type": "code",
   "execution_count": 94,
   "metadata": {},
   "outputs": [
    {
     "data": {
      "text/plain": [
       "(640, 1024)"
      ]
     },
     "execution_count": 94,
     "metadata": {},
     "output_type": "execute_result"
    }
   ],
   "source": [
    "mask.shape"
   ]
  },
  {
   "cell_type": "code",
   "execution_count": 25,
   "metadata": {},
   "outputs": [
    {
     "data": {
      "text/plain": [
       "12111"
      ]
     },
     "execution_count": 25,
     "metadata": {},
     "output_type": "execute_result"
    }
   ],
   "source": [
    "len(good_names)"
   ]
  },
  {
   "cell_type": "code",
   "execution_count": 10,
   "metadata": {},
   "outputs": [
    {
     "data": {
      "image/png": "[encoded data removed]",
      "text/plain": [
       "<Figure size 864x576 with 1 Axes>"
      ]
     },
     "metadata": {},
     "output_type": "display_data"
    }
   ],
   "source": [
    "show_image(img, dpi=144)"
   ]
  },
  {
   "cell_type": "code",
   "execution_count": null,
   "metadata": {
    "collapsed": true
   },
   "outputs": [],
   "source": []
  },
  {
   "cell_type": "code",
   "execution_count": 488,
   "metadata": {},
   "outputs": [
    {
     "data": {
      "image/png": "[encoded data removed]",
      "text/plain": [
       "<Figure size 864x576 with 1 Axes>"
      ]
     },
     "metadata": {},
     "output_type": "display_data"
    }
   ],
   "source": [
    "show_image(ds[-1]['class'], dpi=144)"
   ]
  },
  {
   "cell_type": "code",
   "execution_count": 483,
   "metadata": {},
   "outputs": [
    {
     "data": {
      "image/png": "[encoded data removed]",
      "text/plain": [
       "<Figure size 864x576 with 1 Axes>"
      ]
     },
     "metadata": {},
     "output_type": "display_data"
    }
   ],
   "source": [
    "show_image(ds[-1]['instance'][1], dpi=144)"
   ]
  },
  {
   "cell_type": "code",
   "execution_count": 440,
   "metadata": {},
   "outputs": [
    {
     "data": {
      "image/png": "[encoded data removed]",
      "text/plain": [
       "<Figure size 432x288 with 1 Axes>"
      ]
     },
     "metadata": {},
     "output_type": "display_data"
    }
   ],
   "source": [
    "plt.figure()\n",
    "plt.imshow(ds[-1]['instance'][1])\n",
    "plt.show()"
   ]
  },
  {
   "cell_type": "code",
   "execution_count": null,
   "metadata": {
    "collapsed": true
   },
   "outputs": [],
   "source": []
  }
 ],
 "metadata": {
  "kernelspec": {
   "name": "python3",
   "display_name": "Python 3.9.2 64-bit"
  },
  "language_info": {
   "codemirror_mode": {
    "name": "ipython",
    "version": 3
   },
   "file_extension": ".py",
   "mimetype": "text/x-python",
   "name": "python",
   "nbconvert_exporter": "python",
   "pygments_lexer": "ipython3",
   "version": "3.9.2"
  },
  "interpreter": {
   "hash": "ac59ebe37160ed0dfa835113d9b8498d9f09ceb179beaac4002f036b9467c963"
  }
 },
 "nbformat": 4,
 "nbformat_minor": 2
}